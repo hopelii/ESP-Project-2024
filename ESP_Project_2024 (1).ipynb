{
 "cells": [
  {
   "cell_type": "code",
   "execution_count": 287,
   "id": "68ff7d56-ca4d-4877-b50c-d746b3cb615c",
   "metadata": {},
   "outputs": [],
   "source": [
    "import pandas as pd\n",
    "\n",
    "df = pd.read_csv(\"/Users/ghostcookie/Documents/ESP Research Project 2024/MTA_Subway_Hourly_Ridership_ALL_AC.csv\")"
   ]
  },
  {
   "cell_type": "code",
   "execution_count": 288,
   "id": "4b6fce01-3421-4c91-adf9-c1082f3efc26",
   "metadata": {},
   "outputs": [],
   "source": [
    "from datetime import datetime\n",
    "\n",
    "df['Date'] = pd.to_datetime(df['transit_timestamp'], format='%m/%d/%Y %H:%M:%S %p').dt.date"
   ]
  },
  {
   "cell_type": "code",
   "execution_count": 289,
   "id": "59917dd2-326b-4f77-9dc2-b046c0bcec35",
   "metadata": {},
   "outputs": [],
   "source": [
    "ridershipDf = pd.DataFrame()"
   ]
  },
  {
   "cell_type": "code",
   "execution_count": 290,
   "id": "428f4a32-bf32-45d8-b22a-f719044c4559",
   "metadata": {},
   "outputs": [],
   "source": [
    "ridershipDf = df.sort_values(by=['Date']).groupby(['Date', 'station_complex'], as_index=False)['ridership'].sum()"
   ]
  },
  {
   "cell_type": "code",
   "execution_count": 291,
   "id": "46ed28cf-6b4b-45b8-abb7-61dfe7227102",
   "metadata": {},
   "outputs": [],
   "source": [
    "ridershipDf['Seniors_Disability_Ridership'] = df[df['fare_class_category'].str.contains('Seniors & Disability')].sort_values(by=['Date']).groupby(['Date', 'station_complex'], as_index=False)['ridership'].sum()['ridership']"
   ]
  },
  {
   "cell_type": "code",
   "execution_count": 292,
   "id": "6dfcff8c-d029-4012-b0b1-6bef7c2c350f",
   "metadata": {},
   "outputs": [],
   "source": [
    "ridershipDf = ridershipDf.rename(columns={\"ridership\": \"Total_Ridership\", \"station_complex\": \"Station_Complex\"})"
   ]
  },
  {
   "cell_type": "code",
   "execution_count": 293,
   "id": "60b01f8c-dd6c-4c1e-ad39-8520a44b3bb8",
   "metadata": {},
   "outputs": [],
   "source": [
    "# ridershipDf['Day'] = pd.to_datetime(ridershipDf['Date']).dt.day_name() # writes out name of day, not compatible"
   ]
  },
  {
   "cell_type": "code",
   "execution_count": 294,
   "id": "863649f9-474c-46f7-958c-541bcb2d27f1",
   "metadata": {},
   "outputs": [],
   "source": [
    "ridershipDf['Day'] = pd.to_datetime(ridershipDf['Date']).dt.dayofweek"
   ]
  },
  {
   "cell_type": "code",
   "execution_count": 295,
   "id": "76e68beb-02fc-4c29-831c-9b39d1ff1116",
   "metadata": {},
   "outputs": [],
   "source": [
    "ridershipDf = ridershipDf[['Date', 'Day', 'Total_Ridership', 'Seniors_Disability_Ridership', 'Station_Complex']]"
   ]
  },
  {
   "cell_type": "code",
   "execution_count": 296,
   "id": "ef406720-1c1b-4352-bae0-b7b1d37bd809",
   "metadata": {},
   "outputs": [],
   "source": [
    "ridershipDf = ridershipDf[~ridershipDf['Station_Complex'].str.contains('Chambers')]"
   ]
  },
  {
   "cell_type": "code",
   "execution_count": 297,
   "id": "9019505a-4893-4361-b82a-99c1052db61a",
   "metadata": {},
   "outputs": [],
   "source": [
    "weatherDf = pd.read_csv(\"/Users/ghostcookie/Documents/ESP Research Project 2024/nyc_historical_weather_data_jan1_mar31.csv\")"
   ]
  },
  {
   "cell_type": "code",
   "execution_count": 298,
   "id": "fdce5d49-221a-4925-a71f-53bf3683127e",
   "metadata": {},
   "outputs": [],
   "source": [
    "weatherDf['Date'] = pd.to_datetime(weatherDf['datetime'], format='%Y-%m-%d').dt.date"
   ]
  },
  {
   "cell_type": "code",
   "execution_count": 299,
   "id": "bedb0b72-076d-405b-8ecf-d772c6708562",
   "metadata": {},
   "outputs": [],
   "source": [
    "mergedDf = pd.merge(ridershipDf, weatherDf, on=\"Date\")"
   ]
  },
  {
   "cell_type": "code",
   "execution_count": 300,
   "id": "3add516f-21d3-4f51-9efe-a7a7221137b4",
   "metadata": {},
   "outputs": [],
   "source": [
    "finalDf = mergedDf[['Date', 'Day','Total_Ridership', 'Seniors_Disability_Ridership','Station_Complex','tempmax','tempmin','precip']]"
   ]
  },
  {
   "cell_type": "code",
   "execution_count": 301,
   "id": "19937baf-d5ec-4072-bdbf-c9287c58f3e1",
   "metadata": {},
   "outputs": [],
   "source": [
    "finalDf = finalDf.assign(New_Train_Deployed=(finalDf['Date'] >= pd.to_datetime('2024-02-01').date()).astype(int))"
   ]
  },
  {
   "cell_type": "code",
   "execution_count": 302,
   "id": "75557ded-39ec-4b76-b4df-45553d875ae6",
   "metadata": {},
   "outputs": [],
   "source": [
    "finalDf = finalDf.rename(columns={\"tempmax\": \"Max_Temp\", \"tempmin\": \"Min_Temp\", \"precip\": \"Precipitation\"})"
   ]
  },
  {
   "cell_type": "code",
   "execution_count": 303,
   "id": "d560d407-f82a-4767-8bf8-5135bf083a80",
   "metadata": {
    "scrolled": true
   },
   "outputs": [],
   "source": [
    "highStDf = finalDf[finalDf['Station_Complex'] == 'High St (A,C)']"
   ]
  },
  {
   "cell_type": "code",
   "execution_count": 304,
   "id": "2cd219cf-dd84-4885-a04c-7ea448a67935",
   "metadata": {},
   "outputs": [],
   "source": [
    "uticaAveDf = finalDf[finalDf['Station_Complex'] == 'Utica Av (A,C']"
   ]
  },
  {
   "cell_type": "code",
   "execution_count": 305,
   "id": "98b9be5c-565b-4868-9f6f-69203bf969a9",
   "metadata": {},
   "outputs": [],
   "source": [
    "euclidAveDf = finalDf[finalDf['Station_Complex'] == 'Euclid Av (A,C)']"
   ]
  },
  {
   "cell_type": "code",
   "execution_count": 306,
   "id": "c940862d-caee-4cc5-af5b-947055c3d30d",
   "metadata": {},
   "outputs": [],
   "source": [
    "oneFiveFiveStDf = finalDf[finalDf['Station_Complex'] == '155 St (C)']"
   ]
  },
  {
   "cell_type": "code",
   "execution_count": 307,
   "id": "7de5e847-2792-4d86-adf9-44c96a0876eb",
   "metadata": {},
   "outputs": [],
   "source": [
    "shepherdAveDf = finalDf[finalDf['Station_Complex'] == 'Shepherd Av (C)']"
   ]
  },
  {
   "cell_type": "code",
   "execution_count": 308,
   "id": "713a8e3e-d979-4bde-abfc-36166c33cb02",
   "metadata": {},
   "outputs": [
    {
     "name": "stdout",
     "output_type": "stream",
     "text": [
      "            Date  Day  Total_Ridership  Seniors_Disability_Ridership Station_Complex  Max_Temp  Min_Temp  Precipitation  New_Train_Deployed\n",
      "4     2024-01-01    0             6666                          53.0   High St (A,C)       9.2       3.3          0.039                   0\n",
      "18    2024-01-02    1             7577                         149.0   High St (A,C)       7.7      -0.1          0.000                   0\n",
      "32    2024-01-03    2             7650                         173.0   High St (A,C)       7.1       1.7          0.000                   0\n",
      "46    2024-01-04    3             7536                         191.0   High St (A,C)       8.7      -0.7          0.000                   0\n",
      "60    2024-01-05    4             7511                         194.0   High St (A,C)       4.9      -2.2          0.000                   0\n",
      "74    2024-01-06    5             4872                         112.0   High St (A,C)       3.8       0.0          0.587                   0\n",
      "88    2024-01-07    6             3331                          72.0   High St (A,C)       3.8       2.2          0.345                   0\n",
      "102   2024-01-08    0             6419                         166.0   High St (A,C)       8.7       2.8          0.000                   0\n",
      "116   2024-01-09    1             5359                         141.0   High St (A,C)      12.3       3.3          2.120                   0\n",
      "130   2024-01-10    2             6779                         183.0   High St (A,C)      12.3       6.7          0.757                   0\n",
      "144   2024-01-11    3             6824                         208.0   High St (A,C)       9.3       5.0          0.000                   0\n",
      "158   2024-01-12    4             6072                         163.0   High St (A,C)      10.0       3.9          0.014                   0\n",
      "172   2024-01-13    5             5131                         125.0   High St (A,C)      12.9       2.9          1.335                   0\n",
      "186   2024-01-14    6             4370                          98.0   High St (A,C)       6.2      -1.7          0.000                   0\n",
      "200   2024-01-15    0             3709                          91.0   High St (A,C)      -1.6      -3.9          0.033                   0\n",
      "214   2024-01-16    1             5173                         159.0   High St (A,C)       0.6      -5.0          0.440                   0\n",
      "228   2024-01-17    2             6103                         162.0   High St (A,C)      -1.3      -7.2          0.000                   0\n",
      "242   2024-01-18    3             6409                         199.0   High St (A,C)       0.7      -5.0          0.000                   0\n",
      "256   2024-01-19    4             5256                         131.0   High St (A,C)       0.6      -2.2          0.066                   0\n",
      "270   2024-01-20    5             4314                          87.0   High St (A,C)      -2.3      -6.7          0.000                   0\n",
      "284   2024-01-21    6             3692                          91.0   High St (A,C)       2.0      -5.7          0.000                   0\n",
      "298   2024-01-22    0             5539                         148.0   High St (A,C)       3.3      -3.3          0.000                   0\n",
      "312   2024-01-23    1             6534                         170.0   High St (A,C)       3.9       1.2          0.064                   0\n",
      "326   2024-01-24    2             6280                         193.0   High St (A,C)       8.3       3.8          0.102                   0\n",
      "340   2024-01-25    3             6294                         178.0   High St (A,C)      12.3       7.8          0.377                   0\n",
      "354   2024-01-26    4             5867                         153.0   High St (A,C)       8.3       5.6          0.293                   0\n",
      "368   2024-01-27    5             5854                         136.0   High St (A,C)       8.3       5.7          0.000                   0\n",
      "382   2024-01-28    6             2779                          88.0   High St (A,C)       5.7       3.3          1.072                   0\n",
      "396   2024-01-29    0             6019                         162.0   High St (A,C)       4.3       2.8          0.114                   0\n",
      "410   2024-01-30    1             6606                         175.0   High St (A,C)       3.3       2.2          0.000                   0\n",
      "424   2024-01-31    2             6679                         200.0   High St (A,C)       3.9       1.7          0.000                   0\n",
      "438   2024-02-01    3             6800                         210.0   High St (A,C)       6.3       1.8          0.000                   1\n",
      "452   2024-02-02    4             5879                         178.0   High St (A,C)       6.3       3.9          0.414                   1\n",
      "466   2024-02-03    5             6653                          98.0   High St (A,C)       8.2       1.1          0.000                   1\n",
      "480   2024-02-04    6             5589                         103.0   High St (A,C)       9.2       1.0          0.000                   1\n",
      "494   2024-02-05    0             6131                         168.0   High St (A,C)       8.7       1.1          0.000                   1\n",
      "508   2024-02-06    1             6957                         197.0   High St (A,C)       7.1      -0.7          0.000                   1\n",
      "522   2024-02-07    2             7095                         195.0   High St (A,C)       9.9       1.7          0.000                   1\n",
      "536   2024-02-08    3             6967                         202.0   High St (A,C)      11.1       2.2          0.000                   1\n",
      "550   2024-02-09    4             5771                         156.0   High St (A,C)      11.2       5.1          0.000                   1\n",
      "564   2024-02-10    5               21                           1.0   High St (A,C)      13.5       6.8          0.000                   1\n",
      "578   2024-02-11    6                6                           1.0   High St (A,C)       9.6       6.7          0.000                   1\n",
      "592   2024-02-12    0             6129                         173.0   High St (A,C)       7.9       3.3          0.000                   1\n",
      "606   2024-02-13    1             3940                         104.0   High St (A,C)       5.0       1.1          1.110                   1\n",
      "620   2024-02-14    2             7325                         185.0   High St (A,C)       4.2      -0.1          0.000                   1\n",
      "634   2024-02-15    3             6810                         186.0   High St (A,C)       3.8      -2.2          0.000                   1\n",
      "648   2024-02-16    4             6674                         170.0   High St (A,C)       8.2       2.3          0.000                   1\n",
      "662   2024-02-17    5             4943                          94.0   High St (A,C)       2.8      -1.7          0.290                   1\n",
      "676   2024-02-18    6             5496                         106.0   High St (A,C)       5.0      -2.8          0.000                   1\n",
      "690   2024-02-19    0             4716                         110.0   High St (A,C)       7.0       0.1          0.000                   1\n",
      "704   2024-02-20    1             6942                         184.0   High St (A,C)       4.3      -1.3          0.000                   1\n",
      "718   2024-02-21    2             6751                         166.0   High St (A,C)       6.1       0.6          0.000                   1\n",
      "732   2024-02-22    3             7020                         201.0   High St (A,C)       6.7       1.7          0.035                   1\n",
      "746   2024-02-23    4             5768                         158.0   High St (A,C)       7.9       5.0          0.103                   1\n",
      "760   2024-02-24    5            11616                         156.0   High St (A,C)       7.8      -0.7          0.000                   1\n",
      "774   2024-02-25    6             8215                         175.0   High St (A,C)       4.9      -3.9          0.000                   1\n",
      "788   2024-02-26    0             6452                         177.0   High St (A,C)      12.8       1.2          0.019                   1\n",
      "802   2024-02-27    1             7034                         205.0   High St (A,C)      12.7       5.6          0.711                   1\n",
      "816   2024-02-28    2             6312                         163.0   High St (A,C)      13.9       7.9          0.364                   1\n",
      "830   2024-02-29    3             7504                         169.0   High St (A,C)       7.2       0.0          0.000                   1\n",
      "844   2024-03-01    4             6800                         189.0   High St (A,C)       7.2      -0.7          0.000                   1\n",
      "858   2024-03-02    5             3569                          74.0   High St (A,C)      11.7       5.0          1.833                   1\n",
      "872   2024-03-03    6             6855                         134.0   High St (A,C)      19.3       8.4          0.003                   1\n",
      "886   2024-03-04    0             6857                         157.0   High St (A,C)      13.3       7.2          0.000                   1\n",
      "900   2024-03-05    1             6505                         167.0   High St (A,C)       7.9       5.7          0.564                   1\n",
      "914   2024-03-06    2             6681                         188.0   High St (A,C)       9.0       7.9          1.718                   1\n",
      "928   2024-03-07    3             7385                         174.0   High St (A,C)      13.3       7.2          0.216                   1\n",
      "942   2024-03-08    4             7719                         192.0   High St (A,C)      13.3       5.0          0.000                   1\n",
      "956   2024-03-09    5             4841                         126.0   High St (A,C)       8.4       5.0          2.199                   1\n",
      "970   2024-03-10    6             4999                         113.0   High St (A,C)      10.6       3.4          0.155                   1\n",
      "984   2024-03-11    0             6505                         150.0   High St (A,C)      12.7       2.8          0.000                   1\n",
      "998   2024-03-12    1             8494                         181.0   High St (A,C)      19.3       6.2          0.000                   1\n",
      "1012  2024-03-13    2             7957                         217.0   High St (A,C)      16.1       8.5          0.000                   1\n",
      "1026  2024-03-14    3             8037                         205.0   High St (A,C)      22.2       7.2          0.000                   1\n",
      "1040  2024-03-15    4             7116                         149.0   High St (A,C)      21.2      11.2          0.000                   1\n",
      "1054  2024-03-16    5             6743                         129.0   High St (A,C)      14.0       8.3          0.000                   1\n",
      "1068  2024-03-17    6             5592                         102.0   High St (A,C)      16.6       9.4          0.000                   1\n",
      "1082  2024-03-18    0             6191                         173.0   High St (A,C)      10.6       5.0          0.000                   1\n",
      "1096  2024-03-19    1             7194                         185.0   High St (A,C)       8.3       2.2          0.000                   1\n",
      "1110  2024-03-20    2             7068                         200.0   High St (A,C)      13.3       3.3          0.021                   1\n",
      "1124  2024-03-21    3             6931                         199.0   High St (A,C)       6.1      -0.7          0.000                   1\n",
      "1138  2024-03-22    4             7093                         153.0   High St (A,C)       6.2      -1.2          0.000                   1\n",
      "1152  2024-03-23    5             2837                          83.0   High St (A,C)      11.0       3.8          4.740                   1\n",
      "1166  2024-03-24    6             5684                         110.0   High St (A,C)       9.8       0.6          0.000                   1\n",
      "1180  2024-03-25    0             6508                         140.0   High St (A,C)      11.6       2.8          0.000                   1\n",
      "1194  2024-03-26    1             7765                         159.0   High St (A,C)      11.1       4.3          0.000                   1\n",
      "1208  2024-03-27    2             6748                         142.0   High St (A,C)       9.1       5.6          0.054                   1\n",
      "1222  2024-03-28    3             5487                         122.0   High St (A,C)       9.4       7.3          2.268                   1\n",
      "1236  2024-03-29    4             7766                         116.0   High St (A,C)      13.7       5.7          0.000                   1\n",
      "1250  2024-03-30    5             6847                          64.0   High St (A,C)      16.1       5.0          0.038                   1\n",
      "1264  2024-03-31    6               48                           NaN   High St (A,C)      17.1       8.4          0.147                   1\n"
     ]
    }
   ],
   "source": [
    "print(highStDf.to_string())"
   ]
  },
  {
   "cell_type": "code",
   "execution_count": null,
   "id": "e04c5911-c3ca-4d7d-9f84-ac5e0ee9c318",
   "metadata": {},
   "outputs": [],
   "source": []
  },
  {
   "cell_type": "code",
   "execution_count": null,
   "id": "2501311f-2096-4144-b4e8-289250cf68e9",
   "metadata": {},
   "outputs": [],
   "source": []
  },
  {
   "cell_type": "code",
   "execution_count": null,
   "id": "d4f74e3e-cab5-4ec5-94fd-85236a8eca70",
   "metadata": {},
   "outputs": [],
   "source": []
  }
 ],
 "metadata": {
  "kernelspec": {
   "display_name": "Python 3 (ipykernel)",
   "language": "python",
   "name": "python3"
  },
  "language_info": {
   "codemirror_mode": {
    "name": "ipython",
    "version": 3
   },
   "file_extension": ".py",
   "mimetype": "text/x-python",
   "name": "python",
   "nbconvert_exporter": "python",
   "pygments_lexer": "ipython3",
   "version": "3.11.7"
  }
 },
 "nbformat": 4,
 "nbformat_minor": 5
}
